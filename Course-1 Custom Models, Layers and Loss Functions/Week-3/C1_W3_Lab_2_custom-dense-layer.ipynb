{
 "cells": [
  {
   "cell_type": "markdown",
   "id": "cb9c7b4c-d5ae-4e43-8fbd-649eb8be7875",
   "metadata": {},
   "source": [
    "## Ungraded Lab: Building a Custom Dense Layer\n",
    "\n",
    "In this lab, we'll walk through how to create a custom layer that inherits the Layer class. Unlike simple Lambda layers you did previously, the custom layer here will contain weights that can be updated during training.\n",
    "\n",
    "## Imports"
   ]
  },
  {
   "cell_type": "code",
   "execution_count": 1,
   "id": "84df5be0-4d88-4cb0-9501-b9349513f71f",
   "metadata": {},
   "outputs": [],
   "source": [
    "import math\n",
    "import numpy as np\n",
    "import torch\n",
    "import torch.nn as nn\n",
    "from torch.nn.parameter import Parameter"
   ]
  },
  {
   "cell_type": "markdown",
   "id": "801a4dc9-4cac-4265-9d26-b782a11bb597",
   "metadata": {},
   "source": [
    "## Custom Layer with weights\n",
    "\n",
    "To make custom layer that is trainable, we need to define a class that inherits the nn.Module base class from PyTorch. The Python syntax is shown below in the class declaration. This class requires three functions: __init__() and forward(). These ensure that our custom layer has a state and computation that can be accessed during training or inference."
   ]
  },
  {
   "cell_type": "code",
   "execution_count": 2,
   "id": "c1d78e9a-5f8a-4e83-af16-0f2e4a8f297b",
   "metadata": {},
   "outputs": [],
   "source": [
    "class SimpleDense(nn.Module):\n",
    "    def __init__(self, in_features, out_features, bias=True, device=None, dtype=None):\n",
    "        super(SimpleDense, self).__init__()\n",
    "        factory_kwargs = {'device': device, 'dtype': dtype}\n",
    "        self.in_features = in_features\n",
    "        self.bias = bias\n",
    "        \n",
    "        # Weight\n",
    "        self.weight = Parameter(torch.empty((out_features, in_features), **factory_kwargs))\n",
    "        \n",
    "        # Bias\n",
    "        if bias:\n",
    "            self.bias = Parameter(torch.empty(out_features, **factory_kwargs))\n",
    "        else:\n",
    "            self.register_parameter('bias', None)\n",
    "        \n",
    "        # Weight and Biase initialization\n",
    "        self._reset_parameters()\n",
    "    \n",
    "    def forward(self, input):\n",
    "        x, y = input.shape\n",
    "        if y != self.in_features:\n",
    "            print(f'Wrong Input Features. Please use tensor with {self.in_features} Input Features')\n",
    "            return 0\n",
    "        output = input.matmul(self.weight.t())\n",
    "        if self.bias is not None:\n",
    "            output += self.bias\n",
    "        ret = output\n",
    "        return ret\n",
    "    \n",
    "    def _reset_parameters(self):\n",
    "        torch.nn.init.kaiming_uniform_(self.weight, a=math.sqrt(5))\n",
    "        if self.bias is not None:\n",
    "            fan_in, _ = torch.nn.init._calculate_fan_in_and_fan_out(self.weight)\n",
    "            bound = 1 / math.sqrt(fan_in)\n",
    "            torch.nn.init.uniform_(self.bias, -bound, bound)"
   ]
  },
  {
   "cell_type": "code",
   "execution_count": 3,
   "id": "eda1c885-9733-47c8-85c8-1a444b902389",
   "metadata": {},
   "outputs": [
    {
     "data": {
      "text/plain": [
       "OrderedDict([('weight', tensor([[-0.0886]])), ('bias', tensor([-0.0393]))])"
      ]
     },
     "execution_count": 3,
     "metadata": {},
     "output_type": "execute_result"
    }
   ],
   "source": [
    "# declare an instance of the class\n",
    "my_dense = SimpleDense(in_features=1, out_features=1)\n",
    "\n",
    "# define an input and feed into the layer\n",
    "x = torch.ones((1, 1))\n",
    "y = my_dense(x)\n",
    "\n",
    "my_dense.state_dict()"
   ]
  },
  {
   "cell_type": "code",
   "execution_count": 4,
   "id": "b6859507-2b03-4605-9241-dca4afef1823",
   "metadata": {},
   "outputs": [
    {
     "name": "stdout",
     "output_type": "stream",
     "text": [
      "Epoch: 499, loss: 0.033000429471333824\n"
     ]
    }
   ],
   "source": [
    "# define the dataset\n",
    "xs = np.array([-1.0,  0.0, 1.0, 2.0, 3.0, 4.0], dtype=np.float32).reshape(-1,1)\n",
    "ys = np.array([-3.0, -1.0, 1.0, 3.0, 5.0, 7.0], dtype=np.float32).reshape(-1,1)\n",
    "\n",
    "xs = torch.from_numpy(xs)\n",
    "ys = torch.from_numpy(ys)\n",
    "\n",
    "# Use the Sequential API to build a model with our custom layer\n",
    "my_layer = SimpleDense(in_features=1, out_features=1)\n",
    "\n",
    "modules = []\n",
    "modules.append(my_layer)\n",
    "model = nn.Sequential(*modules)\n",
    "\n",
    "optimizer = torch.optim.SGD(model.parameters(), lr=0.001)\n",
    "criterion = torch.nn.MSELoss()\n",
    "\n",
    "\n",
    "EPOCHS = 500\n",
    "\n",
    "for epoch in range(EPOCHS):\n",
    "    running_loss = 0\n",
    "    \n",
    "    optimizer.zero_grad()\n",
    "\n",
    "    output = model(xs)\n",
    "    loss = criterion(output, ys)\n",
    "    loss.backward()\n",
    "\n",
    "    optimizer.step()\n",
    "    running_loss += loss.item()\n",
    "\n",
    "print(f\"Epoch: {epoch}, loss: {running_loss/len(xs)}\")"
   ]
  },
  {
   "cell_type": "code",
   "execution_count": 5,
   "id": "3f4ebbe8-c5a5-4c69-b0fa-c6d8e921b914",
   "metadata": {},
   "outputs": [
    {
     "data": {
      "text/plain": [
       "Sequential(\n",
       "  (0): SimpleDense()\n",
       ")"
      ]
     },
     "execution_count": 5,
     "metadata": {},
     "output_type": "execute_result"
    }
   ],
   "source": [
    "model.eval()"
   ]
  },
  {
   "cell_type": "code",
   "execution_count": 6,
   "id": "897c462a-c41d-41a6-b694-5869deda65d6",
   "metadata": {},
   "outputs": [
    {
     "data": {
      "text/plain": [
       "tensor([[17.6431]], grad_fn=<AddBackward0>)"
      ]
     },
     "execution_count": 6,
     "metadata": {},
     "output_type": "execute_result"
    }
   ],
   "source": [
    "x_test = torch.Tensor([[10.0]])\n",
    "prediction = model(x_test)\n",
    "prediction"
   ]
  },
  {
   "cell_type": "code",
   "execution_count": 7,
   "id": "cb3e8af0-21ce-49e7-8f9c-96f03b49ef16",
   "metadata": {},
   "outputs": [
    {
     "data": {
      "text/plain": [
       "OrderedDict([('weight', tensor([[1.8056]])), ('bias', tensor([-0.4128]))])"
      ]
     },
     "execution_count": 7,
     "metadata": {},
     "output_type": "execute_result"
    }
   ],
   "source": [
    "# Updated Weight & Bias\n",
    "my_layer.state_dict()"
   ]
  }
 ],
 "metadata": {
  "kernelspec": {
   "display_name": "Python 3 (ipykernel)",
   "language": "python",
   "name": "python3"
  },
  "language_info": {
   "codemirror_mode": {
    "name": "ipython",
    "version": 3
   },
   "file_extension": ".py",
   "mimetype": "text/x-python",
   "name": "python",
   "nbconvert_exporter": "python",
   "pygments_lexer": "ipython3",
   "version": "3.8.5"
  }
 },
 "nbformat": 4,
 "nbformat_minor": 5
}
