{
 "cells": [
  {
   "cell_type": "markdown",
   "id": "32f70853-f7d1-4a07-89c2-f98a109f5ca2",
   "metadata": {},
   "source": [
    "## Ungraded Lab: Implementing ResNet\n",
    "\n",
    "In this lab, you will continue exploring Model subclassing by building a more complex architecture.\n",
    "\n",
    "Residual Networks make use of skip connections to make deep models easier to train.\n",
    "\n",
    "There are branches as well as many repeating blocks of layers in this type of network.\n",
    "You can define a model class to help organize this more complex code, and to make it easier to re-use your code when building the model.\n",
    "As before, you will inherit from the nn.Module class so that you can make use of the other built-in methods that PyTorch provides.\n",
    "\n",
    "## Imports"
   ]
  },
  {
   "cell_type": "code",
   "execution_count": 1,
   "id": "0066a01c-7c40-494f-b587-ef7f532fb1a3",
   "metadata": {},
   "outputs": [],
   "source": [
    "import torch\n",
    "import torch.nn as nn\n",
    "from torch.utils.data import DataLoader\n",
    "from torchvision import transforms\n",
    "from torchvision.datasets import MNIST"
   ]
  },
  {
   "cell_type": "code",
   "execution_count": 2,
   "id": "2afb4fac-f286-4843-b25d-2efdec897108",
   "metadata": {},
   "outputs": [
    {
     "name": "stdout",
     "output_type": "stream",
     "text": [
      "device:  cpu\n"
     ]
    }
   ],
   "source": [
    "device = torch.device(\"cuda\" if torch.cuda.is_available() else \"cpu\")\n",
    "print(\"device: \", device)"
   ]
  },
  {
   "cell_type": "markdown",
   "id": "84e899e7-3410-4bdb-b315-5dca72edd128",
   "metadata": {},
   "source": [
    "## Implement Model subclasses\n",
    "\n",
    "As shown in the lectures, you will first implement the Identity Block which contains the skip connections (i.e. the add() operation below. This will also inherit the Module class and implement the __init__() and forward() methods."
   ]
  },
  {
   "cell_type": "code",
   "execution_count": 3,
   "id": "b6947dcc-3b3b-4c6c-855b-8d3a18dd763a",
   "metadata": {},
   "outputs": [],
   "source": [
    "class IdentityBlock(nn.Module):\n",
    "    def __init__(self, in_ch, out_ch, ksize=(3, 3)):\n",
    "        super(IdentityBlock, self).__init__()\n",
    "        \n",
    "        self.conv1 = nn.Conv2d(in_channels=in_ch, out_channels=out_ch, kernel_size=ksize, padding=1)\n",
    "        self.bn1 = nn.BatchNorm2d(out_ch)\n",
    "        \n",
    "        self.conv2 = nn.Conv2d(in_channels=out_ch, out_channels=out_ch, kernel_size=ksize, padding=1)\n",
    "        self.bn2 = nn.BatchNorm2d(out_ch)\n",
    "        \n",
    "        self.act = nn.ReLU()\n",
    "    \n",
    "    def forward(self, inputs):\n",
    "        x = self.conv1(inputs)\n",
    "        x = self.bn1(x)\n",
    "        x = self.act(x)\n",
    "        \n",
    "        x = self.conv2(x)\n",
    "        x = self.bn2(x)\n",
    "        \n",
    "        x += inputs\n",
    "        x = self.act(x)\n",
    "        \n",
    "        return x"
   ]
  },
  {
   "cell_type": "markdown",
   "id": "4c35cb89-9430-4c1f-951a-a7c583dc2571",
   "metadata": {},
   "source": [
    "From there, you can build the rest of the ResNet model.\n",
    "\n",
    "You will call your IdentityBlock class two times below and that takes care of inserting those blocks of layers into this network."
   ]
  },
  {
   "cell_type": "code",
   "execution_count": 4,
   "id": "655ffc77-cc09-4b3f-bcc1-2328028c2a90",
   "metadata": {},
   "outputs": [],
   "source": [
    "class ResNet(nn.Module):\n",
    "    def __init__(self, num_classes):\n",
    "        super(ResNet, self).__init__()\n",
    "        \n",
    "        self.conv = nn.Conv2d(in_channels=1, out_channels=64, kernel_size=7, padding=3)\n",
    "        self.bn = nn.BatchNorm2d(64)\n",
    "        self.act = nn.ReLU()\n",
    "        self.max_pool = nn.MaxPool2d(kernel_size=(3,3))\n",
    "        \n",
    "        self.ind1a = IdentityBlock(in_ch=64, out_ch=64, ksize=3)\n",
    "        self.ind1b = IdentityBlock(in_ch=64, out_ch=64, ksize=3)\n",
    "        \n",
    "        self.global_pool = nn.AvgPool2d(kernel_size=(8, 8))\n",
    "        self.classifier = nn.Linear(in_features=64, out_features=num_classes)\n",
    "        self.clf_act = nn.LogSoftmax(dim=1)\n",
    "        \n",
    "    def forward(self, inputs):\n",
    "        x = self.conv(inputs)\n",
    "        x = self.bn(x)\n",
    "        x = self.act(x)\n",
    "        x = self.max_pool(x)\n",
    "        # print(f\"x1: {x.shape}\")\n",
    "        \n",
    "        x = self.ind1a(x)\n",
    "        # print(f\"x_ind1a: {x.shape}\")\n",
    "        \n",
    "        x = self.ind1b(x)\n",
    "        # print(f\"x_ind1b: {x.shape}\")\n",
    "        \n",
    "        x = self.global_pool(x)\n",
    "        # print(f\"x_pool: {x.shape}\")\n",
    "        \n",
    "        x = x.view(x.size(0), -1)\n",
    "        # print(f\"x_view: {x.shape}\")\n",
    "        \n",
    "        x = self.classifier(x)\n",
    "        # print(f\"x_clf: {x.shape}\")\n",
    "        \n",
    "        x = self.clf_act(x)\n",
    "        # print(f\"x_clf: {x.shape}\")\n",
    "        \n",
    "        return x"
   ]
  },
  {
   "cell_type": "code",
   "execution_count": 5,
   "id": "526c7fc7-4f8b-421e-8774-f94ad13c3fc8",
   "metadata": {},
   "outputs": [],
   "source": [
    "x = torch.randn((32,1,28,28))\n",
    "model = ResNet(num_classes=10)"
   ]
  },
  {
   "cell_type": "code",
   "execution_count": 6,
   "id": "742d834c-f47f-4e03-a696-78d2483ee2a3",
   "metadata": {},
   "outputs": [
    {
     "data": {
      "text/plain": [
       "torch.Size([32, 10])"
      ]
     },
     "execution_count": 6,
     "metadata": {},
     "output_type": "execute_result"
    }
   ],
   "source": [
    "pred = model(x)\n",
    "pred.shape"
   ]
  },
  {
   "cell_type": "markdown",
   "id": "1d4c08fc-40ef-4110-b22f-3e8edd28aab2",
   "metadata": {},
   "source": [
    "## Dataset Preparation"
   ]
  },
  {
   "cell_type": "code",
   "execution_count": 7,
   "id": "8ffdcaca-3218-4f5b-a87b-4d1a1557c970",
   "metadata": {},
   "outputs": [],
   "source": [
    "# Image Transform\n",
    "transform = transforms.Compose([\n",
    "    transforms.ToTensor(),\n",
    "    transforms.Normalize(mean=(0.5,), std=(0.5,))\n",
    "])"
   ]
  },
  {
   "cell_type": "code",
   "execution_count": 8,
   "id": "77829cae-73ef-40e0-89cb-546db8c1d450",
   "metadata": {},
   "outputs": [],
   "source": [
    "# Load Dataset\n",
    "train_data = MNIST(root='./', train=True, download=True, transform=transform)\n",
    "test_data = MNIST(root='./', train=False, download=True, transform=transform)"
   ]
  },
  {
   "cell_type": "code",
   "execution_count": 9,
   "id": "9a7e8d2e-b776-4f1f-9cc9-23fcf9d73672",
   "metadata": {},
   "outputs": [],
   "source": [
    "# DataLoader\n",
    "train_loader = DataLoader(dataset=train_data,\n",
    "                          batch_size=32,\n",
    "                          shuffle=True,\n",
    "                          num_workers=2,\n",
    "                          pin_memory=True)\n",
    "val_loader = DataLoader(dataset=test_data,\n",
    "                        batch_size=32,\n",
    "                        shuffle=True,\n",
    "                        num_workers=2,\n",
    "                        pin_memory=True)"
   ]
  },
  {
   "cell_type": "markdown",
   "id": "482e9464-a937-4a13-9e5d-4c9a1f99cbce",
   "metadata": {},
   "source": [
    "## Training the Model\n",
    "\n",
    "As mentioned before, inheriting the Model class allows you to make use of the other APIs that Keras provides, such as:\n",
    "```\n",
    "training\n",
    "serialization\n",
    "evaluation\n",
    "```\n",
    "\n",
    "You can instantiate a Resnet object and train it as usual like below:"
   ]
  },
  {
   "cell_type": "code",
   "execution_count": 10,
   "id": "645e60f3-58da-4ce7-87be-996bc823ed0d",
   "metadata": {},
   "outputs": [],
   "source": [
    "# Optimizer\n",
    "optimizer = torch.optim.Adam(model.parameters(), lr=0.001)\n",
    "criterion = torch.nn.CrossEntropyLoss()"
   ]
  },
  {
   "cell_type": "code",
   "execution_count": 11,
   "id": "3037a5d2-c64e-42bd-a0ac-4aefca291d24",
   "metadata": {},
   "outputs": [
    {
     "name": "stdout",
     "output_type": "stream",
     "text": [
      "Epoch: 0, loss: 0.1424209068339318, accuracy: 0.9629666805267334\n",
      "\n",
      "Validation - loss: 0.058380220036287185, accuracy: 0.9837999939918518\n"
     ]
    }
   ],
   "source": [
    "# Train the Model\n",
    "EPOCHS = 1\n",
    "\n",
    "model.train()\n",
    "\n",
    "for epoch in range(EPOCHS):\n",
    "    running_loss = 0\n",
    "    correct = 0\n",
    "    \n",
    "    for data in train_loader:\n",
    "        images, labels = data\n",
    "        images, labels = images.to(device), labels.to(device)\n",
    "        \n",
    "        optimizer.zero_grad()\n",
    "        \n",
    "        output = model(images)\n",
    "        loss = criterion(output, labels)\n",
    "        loss.backward()\n",
    "        optimizer.step()\n",
    "        \n",
    "        pred = output.data.max(1, keepdim=True)[1]\n",
    "        correct += pred.eq(labels.data.view_as(pred)).cpu().sum()\n",
    "        \n",
    "        running_loss += loss.item()\n",
    "    \n",
    "    print(f\"Epoch: {epoch}, loss: {running_loss/len(train_loader)}, accuracy: {correct/len(train_loader.dataset)}\")\n",
    "\n",
    "\n",
    "# Evaluate Trained Model\n",
    "running_loss = 0\n",
    "correct = 0\n",
    "    \n",
    "model.eval()\n",
    "for data in val_loader:\n",
    "    images, labels = data\n",
    "    images, labels = images.to(device), labels.to(device)\n",
    "\n",
    "    output = model(images)\n",
    "    loss = criterion(output, labels)\n",
    "\n",
    "    pred = output.data.max(1, keepdim=True)[1]\n",
    "    correct += pred.eq(labels.data.view_as(pred)).cpu().sum()\n",
    "\n",
    "    running_loss += loss.item()\n",
    "\n",
    "print(f\"\\nValidation - loss: {running_loss/len(val_loader)}, accuracy: {correct/len(val_loader.dataset)}\")"
   ]
  }
 ],
 "metadata": {
  "kernelspec": {
   "display_name": "Python 3 (ipykernel)",
   "language": "python",
   "name": "python3"
  },
  "language_info": {
   "codemirror_mode": {
    "name": "ipython",
    "version": 3
   },
   "file_extension": ".py",
   "mimetype": "text/x-python",
   "name": "python",
   "nbconvert_exporter": "python",
   "pygments_lexer": "ipython3",
   "version": "3.9.7"
  }
 },
 "nbformat": 4,
 "nbformat_minor": 5
}
