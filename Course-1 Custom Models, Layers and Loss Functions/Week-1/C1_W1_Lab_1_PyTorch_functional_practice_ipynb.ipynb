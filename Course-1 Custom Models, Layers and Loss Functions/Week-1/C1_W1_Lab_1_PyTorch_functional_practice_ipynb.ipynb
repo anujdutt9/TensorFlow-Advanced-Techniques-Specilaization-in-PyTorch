{
  "nbformat": 4,
  "nbformat_minor": 5,
  "metadata": {
    "kernelspec": {
      "display_name": "Python 3 (ipykernel)",
      "language": "python",
      "name": "python3"
    },
    "language_info": {
      "codemirror_mode": {
        "name": "ipython",
        "version": 3
      },
      "file_extension": ".py",
      "mimetype": "text/x-python",
      "name": "python",
      "nbconvert_exporter": "python",
      "pygments_lexer": "ipython3",
      "version": "3.9.5"
    },
    "colab": {
      "name": "C1_W1_Lab_1_PyTorch_functional-practice.ipynb.ipynb",
      "provenance": [],
      "collapsed_sections": []
    },
    "accelerator": "GPU"
  },
  "cells": [
    {
      "cell_type": "code",
      "metadata": {
        "id": "3cc05a43-0607-4500-8d3d-489793bfca33"
      },
      "source": [
        "# Import Dependencies\n",
        "from tqdm import tqdm\n",
        "import torch\n",
        "import torch.nn as nn\n",
        "import torch.nn.functional as F\n",
        "from torchvision import datasets, transforms"
      ],
      "id": "3cc05a43-0607-4500-8d3d-489793bfca33",
      "execution_count": 1,
      "outputs": []
    },
    {
      "cell_type": "code",
      "metadata": {
        "colab": {
          "base_uri": "https://localhost:8080/"
        },
        "id": "b8e693e1-6dd3-46e7-a37f-f0b9ad617f16",
        "outputId": "7443102b-29bf-4017-91c3-363002ab2307"
      },
      "source": [
        "device = torch.device(\"cuda\" if torch.cuda.is_available() else \"cpu\")\n",
        "device"
      ],
      "id": "b8e693e1-6dd3-46e7-a37f-f0b9ad617f16",
      "execution_count": 2,
      "outputs": [
        {
          "output_type": "execute_result",
          "data": {
            "text/plain": [
              "device(type='cuda')"
            ]
          },
          "metadata": {
            "tags": []
          },
          "execution_count": 2
        }
      ]
    },
    {
      "cell_type": "code",
      "metadata": {
        "id": "LJ1Vo803btkS"
      },
      "source": [
        "if torch.cuda.is_available():\n",
        "  torch.backends.cudnn.benchmark = True"
      ],
      "id": "LJ1Vo803btkS",
      "execution_count": 3,
      "outputs": []
    },
    {
      "cell_type": "markdown",
      "metadata": {
        "id": "557cb7f9-0af2-4eb0-a5ac-49518134b580"
      },
      "source": [
        "## Sequential API"
      ],
      "id": "557cb7f9-0af2-4eb0-a5ac-49518134b580"
    },
    {
      "cell_type": "code",
      "metadata": {
        "id": "921e8147-cf00-4df7-8f12-e712785da8de"
      },
      "source": [
        "def build_model_with_sequential():\n",
        "    \n",
        "    # instantiate a Sequential class and linearly stack the layers of your model\n",
        "    seq_model = nn.Sequential(\n",
        "        nn.Linear(in_features=784, out_features=128),\n",
        "        nn.ReLU(),\n",
        "        nn.Linear(in_features=128, out_features=10),\n",
        "        nn.LogSoftmax(dim=1)\n",
        "    )\n",
        "    \n",
        "    return seq_model"
      ],
      "id": "921e8147-cf00-4df7-8f12-e712785da8de",
      "execution_count": 4,
      "outputs": []
    },
    {
      "cell_type": "markdown",
      "metadata": {
        "id": "700bfbae-b8e5-4c00-a3ca-dc4889faa00b"
      },
      "source": [
        "## Functional API"
      ],
      "id": "700bfbae-b8e5-4c00-a3ca-dc4889faa00b"
    },
    {
      "cell_type": "code",
      "metadata": {
        "id": "9c8e4183-eab0-4477-8d96-cb1371df30b8"
      },
      "source": [
        "class Net(nn.Module):\n",
        "    def __init__(self, in_features, hidden_dim, num_classes):\n",
        "        super(Net, self).__init__()\n",
        "        \n",
        "        self.in_features = in_features\n",
        "        self.hidden_dim = hidden_dim\n",
        "        self.num_classes = num_classes\n",
        "        \n",
        "        self.layer1 = nn.Linear(in_features=self.in_features, out_features=self.hidden_dim)\n",
        "        self.layer2 = nn.Linear(in_features=self.hidden_dim, out_features=self.num_classes)\n",
        "    \n",
        "    def forward(self, x):\n",
        "        x = x.view(x.shape[0], -1)\n",
        "        x = F.relu(self.layer1(x))\n",
        "        x = self.layer2(x)\n",
        "        x = F.log_softmax(x, dim=1)\n",
        "        \n",
        "        return x"
      ],
      "id": "9c8e4183-eab0-4477-8d96-cb1371df30b8",
      "execution_count": 5,
      "outputs": []
    },
    {
      "cell_type": "code",
      "metadata": {
        "id": "3cb66a9f-ca9d-4eba-89ed-7d2a4561c970"
      },
      "source": [
        "def build_model_with_functional():\n",
        "    \n",
        "    func_model = Net(in_features=784, hidden_dim=128, num_classes=10)\n",
        "    \n",
        "    return func_model"
      ],
      "id": "3cb66a9f-ca9d-4eba-89ed-7d2a4561c970",
      "execution_count": 6,
      "outputs": []
    },
    {
      "cell_type": "markdown",
      "metadata": {
        "id": "b0f9d672-724c-4e2f-a161-b97d75675ffc"
      },
      "source": [
        "## Build Model and Visualize Model"
      ],
      "id": "b0f9d672-724c-4e2f-a161-b97d75675ffc"
    },
    {
      "cell_type": "code",
      "metadata": {
        "colab": {
          "base_uri": "https://localhost:8080/"
        },
        "id": "c358cad7-8da9-4d7f-bea5-e6c59212b5c9",
        "outputId": "87877ecf-8451-4747-99d1-847f3d470915"
      },
      "source": [
        "sequential_model = build_model_with_sequential()\n",
        "sequential_model.to(device)\n",
        "print(sequential_model)"
      ],
      "id": "c358cad7-8da9-4d7f-bea5-e6c59212b5c9",
      "execution_count": 7,
      "outputs": [
        {
          "output_type": "stream",
          "text": [
            "Sequential(\n",
            "  (0): Linear(in_features=784, out_features=128, bias=True)\n",
            "  (1): ReLU()\n",
            "  (2): Linear(in_features=128, out_features=10, bias=True)\n",
            "  (3): LogSoftmax(dim=1)\n",
            ")\n"
          ],
          "name": "stdout"
        }
      ]
    },
    {
      "cell_type": "code",
      "metadata": {
        "colab": {
          "base_uri": "https://localhost:8080/"
        },
        "id": "meAYiNAxauK-",
        "outputId": "5eb98b10-b17b-4af5-c7ee-e7a6d6293835"
      },
      "source": [
        "functional_model = build_model_with_functional()\n",
        "functional_model.to(device)\n",
        "print(functional_model)"
      ],
      "id": "meAYiNAxauK-",
      "execution_count": 8,
      "outputs": [
        {
          "output_type": "stream",
          "text": [
            "Net(\n",
            "  (layer1): Linear(in_features=784, out_features=128, bias=True)\n",
            "  (layer2): Linear(in_features=128, out_features=10, bias=True)\n",
            ")\n"
          ],
          "name": "stdout"
        }
      ]
    },
    {
      "cell_type": "markdown",
      "metadata": {
        "id": "31f537fe-c500-4959-aa0a-3359eae5a0a1"
      },
      "source": [
        "## Training the Model"
      ],
      "id": "31f537fe-c500-4959-aa0a-3359eae5a0a1"
    },
    {
      "cell_type": "code",
      "metadata": {
        "colab": {
          "base_uri": "https://localhost:8080/"
        },
        "id": "2590fee5-eaf7-4785-9df8-8e35db78b63f",
        "outputId": "6397a395-08f9-4365-ae02-4cc5d4b733ee"
      },
      "source": [
        "# Preparing Dataset\n",
        "transform = transforms.Compose([\n",
        "    transforms.ToTensor(),\n",
        "    transforms.Normalize(mean=(0.5,), std=(0.5,))\n",
        "])\n",
        "\n",
        "train = datasets.FashionMNIST('./', download=True, train=True, transform=transform)\n",
        "val = datasets.FashionMNIST('./', download=True, train=False, transform=transform)\n",
        "\n",
        "trainloader = torch.utils.data.DataLoader(train, batch_size=64, shuffle=True)\n",
        "valloader = torch.utils.data.DataLoader(val, batch_size=64, shuffle=True)"
      ],
      "id": "2590fee5-eaf7-4785-9df8-8e35db78b63f",
      "execution_count": 9,
      "outputs": [
        {
          "output_type": "stream",
          "text": [
            "/usr/local/lib/python3.7/dist-packages/torchvision/datasets/mnist.py:498: UserWarning: The given NumPy array is not writeable, and PyTorch does not support non-writeable tensors. This means you can write to the underlying (supposedly non-writeable) NumPy array using the tensor. You may want to copy the array to protect its data or make it writeable before converting it to a tensor. This type of warning will be suppressed for the rest of this program. (Triggered internally at  /pytorch/torch/csrc/utils/tensor_numpy.cpp:180.)\n",
            "  return torch.from_numpy(parsed.astype(m[2], copy=False)).view(*s)\n"
          ],
          "name": "stderr"
        }
      ]
    },
    {
      "cell_type": "code",
      "metadata": {
        "id": "be4e0ee5-680e-48cb-9f74-7108a90dccdd"
      },
      "source": [
        "# Helper Class to track average loss\n",
        "class AverageMeter(object):\n",
        "    \"\"\"Computes and stores the average and current value\"\"\"\n",
        "    def __init__(self):\n",
        "        self.reset()\n",
        "\n",
        "    def reset(self):\n",
        "        self.val = 0\n",
        "        self.avg = 0\n",
        "        self.sum = 0\n",
        "        self.count = 0\n",
        "\n",
        "    def update(self, val, n=1):\n",
        "        self.val = val\n",
        "        self.sum += val * n\n",
        "        self.count += n\n",
        "        self.avg = self.sum / self.count"
      ],
      "id": "be4e0ee5-680e-48cb-9f74-7108a90dccdd",
      "execution_count": 10,
      "outputs": []
    },
    {
      "cell_type": "code",
      "metadata": {
        "id": "8f272a31-6e56-45ad-a551-03f9f7c7e4c1"
      },
      "source": [
        "def train_model(model):\n",
        "    model.train()\n",
        "    losses = AverageMeter()\n",
        "    \n",
        "    running_loss = 0\n",
        "    for idx, (images, labels) in enumerate(trainloader):\n",
        "        images = images.view(images.shape[0], -1)\n",
        "        images = images.to(device)\n",
        "        labels = labels.to(device)\n",
        "\n",
        "        batch_size = images.size(0)\n",
        "\n",
        "        optimizer.zero_grad()\n",
        "        output = model(images)\n",
        "        loss = criterion(output, labels)\n",
        "        loss.backward()\n",
        "        optimizer.step()\n",
        "\n",
        "        losses.update(loss.item(), batch_size)\n",
        "    \n",
        "    return losses.avg"
      ],
      "id": "8f272a31-6e56-45ad-a551-03f9f7c7e4c1",
      "execution_count": 11,
      "outputs": []
    },
    {
      "cell_type": "code",
      "metadata": {
        "id": "b05f40e1-63af-46ec-a111-9ea7507e7187"
      },
      "source": [
        "def eval_model(model):\n",
        "    model.eval()\n",
        "    losses = AverageMeter()\n",
        "    correct = 0\n",
        "    total = 0\n",
        "    \n",
        "    with torch.no_grad():\n",
        "      for idx, (images, labels) in enumerate(valloader):\n",
        "          images = images.view(images.shape[0], -1)\n",
        "          images = images.to(device)\n",
        "          labels = labels.to(device)\n",
        "          \n",
        "          batch_size = images.size(0)\n",
        "          \n",
        "          outputs = model(images)\n",
        "          loss = criterion(outputs, labels)\n",
        "          losses.update(loss.item(), batch_size)\n",
        "          \n",
        "          _, predictions = torch.max(outputs, 1)\n",
        "          correct += (predictions == labels).sum().item()\n",
        "    \n",
        "    return losses.avg, 100. * correct / len(valloader.dataset)"
      ],
      "id": "b05f40e1-63af-46ec-a111-9ea7507e7187",
      "execution_count": 12,
      "outputs": []
    },
    {
      "cell_type": "code",
      "metadata": {
        "colab": {
          "base_uri": "https://localhost:8080/"
        },
        "id": "7d25d6d1-0685-475a-8015-bc508cb11f3e",
        "outputId": "e01b756f-fcc8-48c3-b9b5-d742d37111ad"
      },
      "source": [
        "# Train the Model\n",
        "EPOCHS = 5\n",
        "\n",
        "# Model Loss and Optimizer\n",
        "criterion = nn.NLLLoss()\n",
        "optimizer = torch.optim.Adam(sequential_model.parameters(), lr = 0.001)\n",
        "\n",
        "for epoch in tqdm(range(EPOCHS)):\n",
        "    train_loss = train_model(sequential_model)\n",
        "    val_loss, val_acc = eval_model(sequential_model)\n",
        "    print(f\"EPOCH: {epoch}, train_loss: {train_loss}, val_loss: {val_loss}, val_acc: {val_acc}\\n\")"
      ],
      "id": "7d25d6d1-0685-475a-8015-bc508cb11f3e",
      "execution_count": 13,
      "outputs": [
        {
          "output_type": "stream",
          "text": [
            " 20%|██        | 1/5 [00:09<00:36,  9.24s/it]"
          ],
          "name": "stderr"
        },
        {
          "output_type": "stream",
          "text": [
            "EPOCH: 0, train_loss: 0.5024896764278411, val_loss: 0.43930438976287844, val_acc: 84.08\n",
            "\n"
          ],
          "name": "stdout"
        },
        {
          "output_type": "stream",
          "text": [
            "\r 40%|████      | 2/5 [00:18<00:27,  9.15s/it]"
          ],
          "name": "stderr"
        },
        {
          "output_type": "stream",
          "text": [
            "EPOCH: 1, train_loss: 0.38669134346644085, val_loss: 0.39745709319114686, val_acc: 85.69\n",
            "\n"
          ],
          "name": "stdout"
        },
        {
          "output_type": "stream",
          "text": [
            "\r 60%|██████    | 3/5 [00:27<00:18,  9.13s/it]"
          ],
          "name": "stderr"
        },
        {
          "output_type": "stream",
          "text": [
            "EPOCH: 2, train_loss: 0.34543906332651775, val_loss: 0.37159491224288943, val_acc: 86.89\n",
            "\n"
          ],
          "name": "stdout"
        },
        {
          "output_type": "stream",
          "text": [
            "\r 80%|████████  | 4/5 [00:36<00:09,  9.17s/it]"
          ],
          "name": "stderr"
        },
        {
          "output_type": "stream",
          "text": [
            "EPOCH: 3, train_loss: 0.3209752576669057, val_loss: 0.3585161651611328, val_acc: 87.39\n",
            "\n"
          ],
          "name": "stdout"
        },
        {
          "output_type": "stream",
          "text": [
            "100%|██████████| 5/5 [00:46<00:00,  9.33s/it]"
          ],
          "name": "stderr"
        },
        {
          "output_type": "stream",
          "text": [
            "EPOCH: 4, train_loss: 0.3056336935043335, val_loss: 0.3635697220802307, val_acc: 87.13\n",
            "\n"
          ],
          "name": "stdout"
        },
        {
          "output_type": "stream",
          "text": [
            "\n"
          ],
          "name": "stderr"
        }
      ]
    },
    {
      "cell_type": "code",
      "metadata": {
        "colab": {
          "base_uri": "https://localhost:8080/"
        },
        "id": "nzkJPQF2a3IL",
        "outputId": "713ae53f-5480-4bd6-ae45-71e1fa01476e"
      },
      "source": [
        "# Train the Model\n",
        "EPOCHS = 5\n",
        "\n",
        "# Model Loss and Optimizer\n",
        "criterion = nn.NLLLoss()\n",
        "optimizer = torch.optim.Adam(functional_model.parameters(), lr = 0.001)\n",
        "\n",
        "for epoch in tqdm(range(EPOCHS)):\n",
        "    train_loss = train_model(functional_model)\n",
        "    val_loss, val_acc = eval_model(functional_model)\n",
        "    print(f\"EPOCH: {epoch}, train_loss: {train_loss}, val_loss: {val_loss}, val_acc: {val_acc}\\n\")"
      ],
      "id": "nzkJPQF2a3IL",
      "execution_count": 14,
      "outputs": [
        {
          "output_type": "stream",
          "text": [
            " 20%|██        | 1/5 [00:10<00:41, 10.44s/it]"
          ],
          "name": "stderr"
        },
        {
          "output_type": "stream",
          "text": [
            "EPOCH: 0, train_loss: 0.5007131893952688, val_loss: 0.45968274450302127, val_acc: 83.28\n",
            "\n"
          ],
          "name": "stdout"
        },
        {
          "output_type": "stream",
          "text": [
            "\r 40%|████      | 2/5 [00:20<00:30, 10.31s/it]"
          ],
          "name": "stderr"
        },
        {
          "output_type": "stream",
          "text": [
            "EPOCH: 1, train_loss: 0.37820769069194793, val_loss: 0.3899271595001221, val_acc: 85.82\n",
            "\n"
          ],
          "name": "stdout"
        },
        {
          "output_type": "stream",
          "text": [
            "\r 60%|██████    | 3/5 [00:29<00:19,  9.95s/it]"
          ],
          "name": "stderr"
        },
        {
          "output_type": "stream",
          "text": [
            "EPOCH: 2, train_loss: 0.3426969712257385, val_loss: 0.3720832130432129, val_acc: 86.64\n",
            "\n"
          ],
          "name": "stdout"
        },
        {
          "output_type": "stream",
          "text": [
            "\r 80%|████████  | 4/5 [00:38<00:09,  9.68s/it]"
          ],
          "name": "stderr"
        },
        {
          "output_type": "stream",
          "text": [
            "EPOCH: 3, train_loss: 0.3193135728120804, val_loss: 0.373526788520813, val_acc: 86.36\n",
            "\n"
          ],
          "name": "stdout"
        },
        {
          "output_type": "stream",
          "text": [
            "100%|██████████| 5/5 [00:47<00:00,  9.54s/it]"
          ],
          "name": "stderr"
        },
        {
          "output_type": "stream",
          "text": [
            "EPOCH: 4, train_loss: 0.3004917617082596, val_loss: 0.35398429894447325, val_acc: 87.58\n",
            "\n"
          ],
          "name": "stdout"
        },
        {
          "output_type": "stream",
          "text": [
            "\n"
          ],
          "name": "stderr"
        }
      ]
    }
  ]
}