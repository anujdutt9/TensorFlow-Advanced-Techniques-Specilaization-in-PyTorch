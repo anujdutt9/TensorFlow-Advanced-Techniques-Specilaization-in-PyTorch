{
 "cells": [
  {
   "cell_type": "code",
   "execution_count": 1,
   "id": "2755cb73",
   "metadata": {},
   "outputs": [],
   "source": [
    "import torch\n",
    "import torch.nn as nn\n",
    "import torch.nn.functional as F"
   ]
  },
  {
   "cell_type": "code",
   "execution_count": 3,
   "id": "450ae7a4",
   "metadata": {},
   "outputs": [],
   "source": [
    "class Net(nn.Module):\n",
    "    def __init__(self, input_dim, hidden_dim=[128, 128, 64], output_dim=1):\n",
    "        super(Net, self).__init__()\n",
    "        \n",
    "        self.input_dim = input_dim\n",
    "        self.hidden_dim = hidden_dim\n",
    "        self.output_dim = output_dim\n",
    "        \n",
    "        self.layer1 = nn.Linear(in_features=self.input_dim, out_features=self.hidden_dim[0])\n",
    "        self.layer2 = nn.Linear(in_features=self.hidden_dim[0], out_features=self.hidden_dim[1])\n",
    "        self.layer3 = nn.Linear(in_features=self.hidden_dim[1], out_features=self.hidden_dim[2])\n",
    "        \n",
    "        self.y1_out = nn.Linear(in_features=self.hidden_dim[1], out_features=output_dim)\n",
    "        self.y2_out = nn.Linear(in_features=self.hidden_dim[2], out_features=self.output_dim)\n",
    "        \n",
    "    def forward(self, x):\n",
    "        x = F.relu(self.layer1(x))\n",
    "        x = F.relu(self.layer2(x))\n",
    "        y1_out = self.y1_out(x)\n",
    "        x = F.relu(self.layer3(x))\n",
    "        y2_out = self.y2_out(x)\n",
    "        \n",
    "        return y1_out, y2_out"
   ]
  },
  {
   "cell_type": "code",
   "execution_count": 4,
   "id": "b2a7d3fa",
   "metadata": {},
   "outputs": [
    {
     "name": "stdout",
     "output_type": "stream",
     "text": [
      "Net(\n",
      "  (layer1): Linear(in_features=8, out_features=128, bias=True)\n",
      "  (layer2): Linear(in_features=128, out_features=128, bias=True)\n",
      "  (layer3): Linear(in_features=128, out_features=64, bias=True)\n",
      "  (y1_out): Linear(in_features=128, out_features=1, bias=True)\n",
      "  (y2_out): Linear(in_features=64, out_features=1, bias=True)\n",
      ")\n"
     ]
    }
   ],
   "source": [
    "model = Net(input_dim=8)\n",
    "print(model)"
   ]
  },
  {
   "cell_type": "code",
   "execution_count": null,
   "id": "c53df9d7",
   "metadata": {},
   "outputs": [],
   "source": []
  }
 ],
 "metadata": {
  "kernelspec": {
   "display_name": "Python 3 (ipykernel)",
   "language": "python",
   "name": "python3"
  },
  "language_info": {
   "codemirror_mode": {
    "name": "ipython",
    "version": 3
   },
   "file_extension": ".py",
   "mimetype": "text/x-python",
   "name": "python",
   "nbconvert_exporter": "python",
   "pygments_lexer": "ipython3",
   "version": "3.9.5"
  }
 },
 "nbformat": 4,
 "nbformat_minor": 5
}
