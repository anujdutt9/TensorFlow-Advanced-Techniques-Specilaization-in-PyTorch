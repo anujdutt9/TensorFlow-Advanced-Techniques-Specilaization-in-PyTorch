{
 "cells": [
  {
   "cell_type": "code",
   "execution_count": 1,
   "id": "d2645839",
   "metadata": {},
   "outputs": [],
   "source": [
    "from torchinfo import summary\n",
    "import torch\n",
    "import torch.nn as nn\n",
    "import torch.nn.functional as F"
   ]
  },
  {
   "cell_type": "code",
   "execution_count": 2,
   "id": "b4364d1a",
   "metadata": {},
   "outputs": [],
   "source": [
    "class SiameseNetwork(nn.Module):\n",
    "    def __init__(self, input_dim, hidden_dim):\n",
    "        super(SiameseNetwork, self).__init__()\n",
    "        \n",
    "        self.input_dim = input_dim\n",
    "        self.hidden_dim = hidden_dim\n",
    "        \n",
    "        self.layer1 = nn.Linear(in_features=self.input_dim, out_features=self.hidden_dim)\n",
    "        self.layer2 = nn.Linear(in_features=self.hidden_dim, out_features=self.hidden_dim)\n",
    "        self.out = nn.Linear(in_features=self.hidden_dim, out_features=self.hidden_dim)\n",
    "        self.dropout = nn.Dropout(p=0.1, inplace=True)\n",
    "    \n",
    "    def forward_once(self, x):\n",
    "        x = x.view(x.shape[0], -1)\n",
    "        x = F.relu(self.dropout(self.layer1(x)))\n",
    "        x = F.relu(self.dropout(self.layer2(x)))\n",
    "        out = self.out(x)\n",
    "        \n",
    "        return out\n",
    "    \n",
    "    def forward(self, x1, x2):\n",
    "        out1 = self.forward_once(x1)\n",
    "        out2 = self.forward_once(x2)\n",
    "        \n",
    "        return out1, out2"
   ]
  },
  {
   "cell_type": "code",
   "execution_count": 3,
   "id": "eaed9986",
   "metadata": {},
   "outputs": [],
   "source": [
    "def initialize_base_network():\n",
    "    model = SiameseNetwork(input_dim=784, hidden_dim=128)\n",
    "    \n",
    "    return model"
   ]
  },
  {
   "cell_type": "code",
   "execution_count": 4,
   "id": "57d493e4",
   "metadata": {},
   "outputs": [
    {
     "name": "stdout",
     "output_type": "stream",
     "text": [
      "SiameseNetwork(\n",
      "  (layer1): Linear(in_features=784, out_features=128, bias=True)\n",
      "  (layer2): Linear(in_features=128, out_features=128, bias=True)\n",
      "  (out): Linear(in_features=128, out_features=128, bias=True)\n",
      "  (dropout): Dropout(p=0.1, inplace=True)\n",
      ")\n"
     ]
    }
   ],
   "source": [
    "model = initialize_base_network()\n",
    "print(model)"
   ]
  },
  {
   "cell_type": "code",
   "execution_count": 5,
   "id": "98249ed6",
   "metadata": {},
   "outputs": [
    {
     "data": {
      "text/plain": [
       "=================================================================\n",
       "Layer (type:depth-idx)                   Param #\n",
       "=================================================================\n",
       "SiameseNetwork                           --\n",
       "├─Linear: 1-1                            100,480\n",
       "├─Linear: 1-2                            16,512\n",
       "├─Linear: 1-3                            16,512\n",
       "├─Dropout: 1-4                           --\n",
       "=================================================================\n",
       "Total params: 133,504\n",
       "Trainable params: 133,504\n",
       "Non-trainable params: 0\n",
       "================================================================="
      ]
     },
     "execution_count": 5,
     "metadata": {},
     "output_type": "execute_result"
    }
   ],
   "source": [
    "summary(model)"
   ]
  },
  {
   "cell_type": "markdown",
   "id": "f12afbe1",
   "metadata": {},
   "source": [
    "## Contrastive Loss Formulation\n",
    "\n",
    "![title](contrastive_loss.png)"
   ]
  },
  {
   "cell_type": "markdown",
   "id": "5e5ab1a1",
   "metadata": {},
   "source": [
    "## Contrastive Loss with Margin"
   ]
  },
  {
   "cell_type": "code",
   "execution_count": 7,
   "id": "fca6c0d9",
   "metadata": {},
   "outputs": [],
   "source": [
    "def contrastive_loss_with_margin(margin):\n",
    "    \n",
    "    def contrastive_loss(y_true, y_pred):\n",
    "        square_pred = torch.square(y_pred)\n",
    "        margin_square = torch.square(torch.maximum(margin - y_pred), 0)\n",
    "        \n",
    "        return torch.mean(y_true * square_pred + (1 - y_true) * margin_square)\n",
    "    \n",
    "    return contrastive_loss"
   ]
  },
  {
   "cell_type": "markdown",
   "id": "3d7b9ff2",
   "metadata": {},
   "source": [
    "## Contrastive Loss as Class"
   ]
  },
  {
   "cell_type": "code",
   "execution_count": 8,
   "id": "d7224395",
   "metadata": {},
   "outputs": [],
   "source": [
    "class contrastive_loss(nn.Module):\n",
    "    def __init__(self, margin):\n",
    "        super(contrastive_loss, self).__init__()\n",
    "        self.margin = margin\n",
    "    \n",
    "    def forward(self, y_true, y_pred):\n",
    "        square_pred = torch.square(y_pred)\n",
    "        margin_square = torch.square(torch.maximum(margin - y_pred), 0)\n",
    "        \n",
    "        return torch.mean(y_true * square_pred + (1 - y_true) * margin_square)"
   ]
  }
 ],
 "metadata": {
  "kernelspec": {
   "display_name": "Python 3 (ipykernel)",
   "language": "python",
   "name": "python3"
  },
  "language_info": {
   "codemirror_mode": {
    "name": "ipython",
    "version": 3
   },
   "file_extension": ".py",
   "mimetype": "text/x-python",
   "name": "python",
   "nbconvert_exporter": "python",
   "pygments_lexer": "ipython3",
   "version": "3.9.7"
  }
 },
 "nbformat": 4,
 "nbformat_minor": 5
}
