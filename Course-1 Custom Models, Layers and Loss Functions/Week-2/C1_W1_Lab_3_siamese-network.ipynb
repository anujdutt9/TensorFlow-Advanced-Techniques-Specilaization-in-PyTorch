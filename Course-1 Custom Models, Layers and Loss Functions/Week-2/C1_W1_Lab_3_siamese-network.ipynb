{
 "cells": [
  {
   "cell_type": "code",
   "execution_count": 1,
   "id": "d2645839",
   "metadata": {},
   "outputs": [],
   "source": [
    "import random\n",
    "from tqdm import tqdm\n",
    "from PIL import Image, ImageFont, ImageDraw\n",
    "import numpy as np\n",
    "import torch\n",
    "import torch.nn as nn\n",
    "import torch.nn.functional as F\n",
    "from torch.utils.data import Dataset, DataLoader, TensorDataset\n",
    "from torchvision.datasets import FashionMNIST\n",
    "import torchvision.transforms as transforms\n",
    "from torchinfo import summary\n",
    "import matplotlib.pyplot as plt\n",
    "%matplotlib inline"
   ]
  },
  {
   "cell_type": "code",
   "execution_count": 2,
   "id": "c412cdc2-0e12-4949-8da3-d834b9dfef66",
   "metadata": {},
   "outputs": [],
   "source": [
    "# torch.autograd.set_detect_anomaly(True)"
   ]
  },
  {
   "cell_type": "code",
   "execution_count": 3,
   "id": "3bcd47cf-eb5f-43ef-95b0-1009eaaf456d",
   "metadata": {},
   "outputs": [
    {
     "name": "stdout",
     "output_type": "stream",
     "text": [
      "Device:  cpu\n"
     ]
    }
   ],
   "source": [
    "device = torch.device(\"cuda\" if torch.cuda.is_available() else \"cpu\")\n",
    "print(\"Device: \", device)"
   ]
  },
  {
   "cell_type": "markdown",
   "id": "a9c760bf-5490-4731-bc37-8277b86a313b",
   "metadata": {},
   "source": [
    "## Prepare the Dataset"
   ]
  },
  {
   "cell_type": "code",
   "execution_count": 4,
   "id": "56a298f5-de2c-4552-b93c-5770e44c0ef4",
   "metadata": {},
   "outputs": [],
   "source": [
    "def create_pairs(x, digit_indices):\n",
    "    '''\n",
    "        Positive and negative pair creation.\n",
    "        Alternates between positive and negative pairs.\n",
    "    '''\n",
    "    \n",
    "    pairs = []\n",
    "    labels = []\n",
    "    # Get the array from list of arrays with minimum number of items\n",
    "    n = min([len(digit_indices[d]) for d in range(10)]) - 1\n",
    "    \n",
    "    for d in range(10):\n",
    "        for i in range(n):\n",
    "            # From each array of arrays, take i, i+1 index\n",
    "            # Since in an array, all indexes correspond to same label, they can form a pair\n",
    "            z1, z2 = digit_indices[d][i], digit_indices[d][i + 1]\n",
    "            # Get image at those index and create a pair of images - same labels\n",
    "            pairs += [[x[z1], x[z2]]]\n",
    "            inc = random.randrange(1, 10)\n",
    "            dn = (d + inc) % 10\n",
    "            # Get image from different arrays and create a pair of images - different labels\n",
    "            z1, z2 = digit_indices[d][i], digit_indices[dn][i]\n",
    "            pairs += [[x[z1], x[z2]]]\n",
    "            # Image pairs with same labels get a label of 1 and others a label of 0\n",
    "            # That's why all even index have similar images and odd index different images\n",
    "            labels += [1, 0]\n",
    "            \n",
    "    return np.array(pairs), np.array(labels)\n",
    "\n",
    "\n",
    "def create_pairs_on_set(images, labels):\n",
    "    # This returns an array of arrays containing index of images with same labels\n",
    "    # [[idx with label 0], [idx with label 1], ....]\n",
    "    digit_indices = [np.where(labels == i)[0] for i in range(10)]\n",
    "    pairs, y = create_pairs(images, digit_indices)\n",
    "    y = y.astype('float32')\n",
    "    \n",
    "    return pairs, y\n",
    "\n",
    "\n",
    "def show_image(image):\n",
    "    plt.figure()\n",
    "    plt.imshow(image)\n",
    "    plt.colorbar()\n",
    "    plt.grid(False)\n",
    "    plt.show()"
   ]
  },
  {
   "cell_type": "code",
   "execution_count": 5,
   "id": "c6bd41f4-8a03-4c19-b969-dde4584eba0c",
   "metadata": {},
   "outputs": [],
   "source": [
    "# Image Transform\n",
    "transform = transforms.Compose([\n",
    "    transforms.ToTensor(),\n",
    "    transforms.Normalize(mean=(0.5,), std=(1.,))\n",
    "])"
   ]
  },
  {
   "cell_type": "code",
   "execution_count": 6,
   "id": "450de04b-423e-45e6-b1fa-6a1148e96f79",
   "metadata": {},
   "outputs": [],
   "source": [
    "# Load Dataset\n",
    "train_data = FashionMNIST(root='./', train=True, download=True, transform=transform)\n",
    "test_data = FashionMNIST(root='./', train=False, download=True, transform=transform)"
   ]
  },
  {
   "cell_type": "code",
   "execution_count": 7,
   "id": "f878717a-3881-4d32-af83-49df3488fb66",
   "metadata": {},
   "outputs": [
    {
     "name": "stdout",
     "output_type": "stream",
     "text": [
      "(60000, 28, 28) (60000,)\n"
     ]
    }
   ],
   "source": [
    "# Get raw train images and labels\n",
    "train_images = train_data.data.numpy()\n",
    "train_labels = train_data.targets.numpy()\n",
    "\n",
    "print(train_images.shape, train_labels.shape)"
   ]
  },
  {
   "cell_type": "code",
   "execution_count": 8,
   "id": "bfb31f7f-f3b4-46ad-a52f-2374daa7dc56",
   "metadata": {},
   "outputs": [
    {
     "name": "stdout",
     "output_type": "stream",
     "text": [
      "(10000, 28, 28) (10000,)\n"
     ]
    }
   ],
   "source": [
    "# Get raw train images and labels\n",
    "test_images = test_data.data.numpy()\n",
    "test_labels = test_data.targets.numpy()\n",
    "\n",
    "print(test_images.shape, test_labels.shape)"
   ]
  },
  {
   "cell_type": "code",
   "execution_count": 9,
   "id": "6a630d9d-b8ab-45f2-b51d-656e81f9107b",
   "metadata": {},
   "outputs": [],
   "source": [
    "# create pairs on train and test sets\n",
    "tr_pairs, tr_y = create_pairs_on_set(train_images, train_labels)\n",
    "ts_pairs, ts_y = create_pairs_on_set(test_images, test_labels)"
   ]
  },
  {
   "cell_type": "code",
   "execution_count": 10,
   "id": "441c311c-370b-46fd-8692-505d5f79dc00",
   "metadata": {},
   "outputs": [
    {
     "data": {
      "text/plain": [
       "((119980, 2, 28, 28), (119980,))"
      ]
     },
     "execution_count": 10,
     "metadata": {},
     "output_type": "execute_result"
    }
   ],
   "source": [
    "tr_pairs.shape, tr_y.shape"
   ]
  },
  {
   "cell_type": "code",
   "execution_count": 11,
   "id": "1eded990-ec7c-42c0-a7a4-31c7b7b28312",
   "metadata": {},
   "outputs": [
    {
     "data": {
      "image/png": "[encoded data removed]",
      "text/plain": [
       "<Figure size 432x288 with 2 Axes>"
      ]
     },
     "metadata": {
      "needs_background": "light"
     },
     "output_type": "display_data"
    },
    {
     "data": {
      "image/png": "[encoded data removed]",
      "text/plain": [
       "<Figure size 432x288 with 2 Axes>"
      ]
     },
     "metadata": {
      "needs_background": "light"
     },
     "output_type": "display_data"
    },
    {
     "name": "stdout",
     "output_type": "stream",
     "text": [
      "1.0\n"
     ]
    }
   ],
   "source": [
    "# array index\n",
    "this_pair = 8\n",
    "\n",
    "# show images at this index\n",
    "show_image(ts_pairs[this_pair][0])\n",
    "show_image(ts_pairs[this_pair][1])\n",
    "\n",
    "# print the label for this pair\n",
    "print(ts_y[this_pair])"
   ]
  },
  {
   "cell_type": "code",
   "execution_count": 12,
   "id": "0cf94345-4f92-46c3-a91a-5ad18d1ac41b",
   "metadata": {},
   "outputs": [
    {
     "data": {
      "image/png": "[encoded data removed]",
      "text/plain": [
       "<Figure size 432x288 with 2 Axes>"
      ]
     },
     "metadata": {
      "needs_background": "light"
     },
     "output_type": "display_data"
    },
    {
     "data": {
      "image/png": "[encoded data removed]",
      "text/plain": [
       "<Figure size 432x288 with 2 Axes>"
      ]
     },
     "metadata": {
      "needs_background": "light"
     },
     "output_type": "display_data"
    },
    {
     "data": {
      "image/png": "[encoded data removed]",
      "text/plain": [
       "<Figure size 432x288 with 2 Axes>"
      ]
     },
     "metadata": {
      "needs_background": "light"
     },
     "output_type": "display_data"
    },
    {
     "data": {
      "image/png": "[encoded data removed]",
      "text/plain": [
       "<Figure size 432x288 with 2 Axes>"
      ]
     },
     "metadata": {
      "needs_background": "light"
     },
     "output_type": "display_data"
    }
   ],
   "source": [
    "# print other pairs\n",
    "\n",
    "# Similar Pairs\n",
    "show_image(tr_pairs[:,0][0])\n",
    "show_image(tr_pairs[:,0][1])\n",
    "\n",
    "# Dissimilar Pairs\n",
    "show_image(tr_pairs[:,1][0])\n",
    "show_image(tr_pairs[:,1][1])"
   ]
  },
  {
   "cell_type": "code",
   "execution_count": 13,
   "id": "911a796b-eb59-4fed-9292-9e2e461b775e",
   "metadata": {},
   "outputs": [],
   "source": [
    "# Create Dataset & DataLoaders\n",
    "tr_pairs_tensor = torch.Tensor(tr_pairs)\n",
    "tr_y_tensor = torch.Tensor(tr_y)\n",
    "\n",
    "ts_pairs_tensor = torch.Tensor(ts_pairs)\n",
    "ts_y_tensor = torch.Tensor(ts_y)"
   ]
  },
  {
   "cell_type": "code",
   "execution_count": 14,
   "id": "a9cd756c-47ff-42d6-9e11-6af690619279",
   "metadata": {},
   "outputs": [],
   "source": [
    "# Dataset\n",
    "train_dataset = TensorDataset(tr_pairs_tensor, tr_y_tensor)\n",
    "val_dataset = TensorDataset(ts_pairs_tensor, ts_y_tensor)"
   ]
  },
  {
   "cell_type": "code",
   "execution_count": 15,
   "id": "f9a28ab0-95a2-44d2-8370-fabf94a6340b",
   "metadata": {},
   "outputs": [],
   "source": [
    "# DataLoader\n",
    "trainLoader = DataLoader(dataset=train_dataset, \n",
    "                         batch_size=32,\n",
    "                         shuffle=True,\n",
    "                         num_workers=4,\n",
    "                         pin_memory=True)\n",
    "\n",
    "valLoader = DataLoader(dataset=val_dataset,\n",
    "                       batch_size=32,\n",
    "                       shuffle=False,\n",
    "                       num_workers=4,\n",
    "                       pin_memory=True)"
   ]
  },
  {
   "cell_type": "markdown",
   "id": "65f80722-39b1-4d0a-a180-e3cf90aaacc3",
   "metadata": {},
   "source": [
    "## Build the Model"
   ]
  },
  {
   "cell_type": "code",
   "execution_count": 16,
   "id": "b4364d1a",
   "metadata": {},
   "outputs": [],
   "source": [
    "class SiameseNetwork(nn.Module):\n",
    "    def __init__(self, input_dim, hidden_dim):\n",
    "        super(SiameseNetwork, self).__init__()\n",
    "        \n",
    "        self.input_dim = input_dim\n",
    "        self.hidden_dim = hidden_dim\n",
    "        \n",
    "        self.layer1 = nn.Linear(in_features=self.input_dim, out_features=self.hidden_dim)\n",
    "        self.layer2 = nn.Linear(in_features=self.hidden_dim, out_features=self.hidden_dim)\n",
    "        self.out = nn.Linear(in_features=self.hidden_dim, out_features=self.hidden_dim)\n",
    "        self.dropout = nn.Dropout(p=0.1)\n",
    "        self.relu1 = nn.ReLU(inplace=True)\n",
    "        self.relu2 = nn.ReLU(inplace=True)\n",
    "        self.relu3 = nn.ReLU(inplace=True)\n",
    "    \n",
    "    def forward_once(self, x):\n",
    "        x = x.view(x.shape[0], -1)\n",
    "        \n",
    "        x = self.layer1(x)\n",
    "        x = self.relu1(x)\n",
    "        x = self.dropout(x)\n",
    "        \n",
    "        x = self.layer2(x)\n",
    "        x = self.relu2(x)\n",
    "        x = self.dropout(x)\n",
    "        \n",
    "        x = self.out(x)\n",
    "        out = self.relu3(x)\n",
    "        \n",
    "        return out\n",
    "    \n",
    "    def forward(self, x1, x2):\n",
    "        out1 = self.forward_once(x1)\n",
    "        out2 = self.forward_once(x2)\n",
    "        \n",
    "        return out1, out2"
   ]
  },
  {
   "cell_type": "code",
   "execution_count": 17,
   "id": "eaed9986",
   "metadata": {},
   "outputs": [],
   "source": [
    "def initialize_base_network():\n",
    "    model = SiameseNetwork(input_dim=784, hidden_dim=128)\n",
    "    \n",
    "    return model"
   ]
  },
  {
   "cell_type": "code",
   "execution_count": 18,
   "id": "57d493e4",
   "metadata": {},
   "outputs": [
    {
     "data": {
      "text/plain": [
       "SiameseNetwork(\n",
       "  (layer1): Linear(in_features=784, out_features=128, bias=True)\n",
       "  (layer2): Linear(in_features=128, out_features=128, bias=True)\n",
       "  (out): Linear(in_features=128, out_features=128, bias=True)\n",
       "  (dropout): Dropout(p=0.1, inplace=False)\n",
       "  (relu1): ReLU(inplace=True)\n",
       "  (relu2): ReLU(inplace=True)\n",
       "  (relu3): ReLU(inplace=True)\n",
       ")"
      ]
     },
     "execution_count": 18,
     "metadata": {},
     "output_type": "execute_result"
    }
   ],
   "source": [
    "model = initialize_base_network()\n",
    "model.to(device)"
   ]
  },
  {
   "cell_type": "code",
   "execution_count": 19,
   "id": "98249ed6",
   "metadata": {},
   "outputs": [
    {
     "data": {
      "text/plain": [
       "=================================================================\n",
       "Layer (type:depth-idx)                   Param #\n",
       "=================================================================\n",
       "SiameseNetwork                           --\n",
       "├─Linear: 1-1                            100,480\n",
       "├─Linear: 1-2                            16,512\n",
       "├─Linear: 1-3                            16,512\n",
       "├─Dropout: 1-4                           --\n",
       "├─ReLU: 1-5                              --\n",
       "├─ReLU: 1-6                              --\n",
       "├─ReLU: 1-7                              --\n",
       "=================================================================\n",
       "Total params: 133,504\n",
       "Trainable params: 133,504\n",
       "Non-trainable params: 0\n",
       "================================================================="
      ]
     },
     "execution_count": 19,
     "metadata": {},
     "output_type": "execute_result"
    }
   ],
   "source": [
    "summary(model)"
   ]
  },
  {
   "cell_type": "markdown",
   "id": "f12afbe1",
   "metadata": {},
   "source": [
    "## Contrastive Loss Formulation\n",
    "\n",
    "![title](contrastive_loss.png)"
   ]
  },
  {
   "cell_type": "markdown",
   "id": "3d7b9ff2",
   "metadata": {},
   "source": [
    "## Contrastive Loss with Margin"
   ]
  },
  {
   "cell_type": "code",
   "execution_count": 20,
   "id": "d7224395",
   "metadata": {},
   "outputs": [],
   "source": [
    "class contrastive_loss(nn.Module):\n",
    "    def __init__(self, margin):\n",
    "        super(contrastive_loss, self).__init__()\n",
    "        self.margin = margin\n",
    "        self.pairwise_distance = nn.PairwiseDistance()\n",
    "    \n",
    "    def forward(self, y_pred1, y_pred2, y_true):\n",
    "        euclidean_distance = self.pairwise_distance(y_pred1, y_pred2)\n",
    "        loss = torch.mean(y_true * torch.square(self.margin - euclidean_distance) + \n",
    "                          (1 - y_true) * torch.square(euclidean_distance))\n",
    "        \n",
    "        return loss"
   ]
  },
  {
   "cell_type": "markdown",
   "id": "558b73d2-1ff8-4b8c-b5da-fdaf3119fa04",
   "metadata": {},
   "source": [
    "## Train the Model"
   ]
  },
  {
   "cell_type": "code",
   "execution_count": 21,
   "id": "19735e4b-09e4-49a1-ba4d-21e0d63ed162",
   "metadata": {},
   "outputs": [],
   "source": [
    "optimizer = torch.optim.RMSprop(model.parameters(), lr=0.001)\n",
    "criterion = contrastive_loss(margin=1.0)"
   ]
  },
  {
   "cell_type": "code",
   "execution_count": 22,
   "id": "4ae24e86-b987-4a2d-bbc5-ecdfe5b778d5",
   "metadata": {},
   "outputs": [
    {
     "name": "stderr",
     "output_type": "stream",
     "text": [
      "  5%|███                                                         | 1/20 [00:11<03:43, 11.76s/it]"
     ]
    },
    {
     "name": "stdout",
     "output_type": "stream",
     "text": [
      "Epoch: 0, Loss: 0.4827125618577371\n"
     ]
    },
    {
     "name": "stderr",
     "output_type": "stream",
     "text": [
      " 10%|██████                                                      | 2/20 [00:23<03:27, 11.55s/it]"
     ]
    },
    {
     "name": "stdout",
     "output_type": "stream",
     "text": [
      "Epoch: 1, Loss: 0.017530962940945707\n"
     ]
    },
    {
     "name": "stderr",
     "output_type": "stream",
     "text": [
      " 15%|█████████                                                   | 3/20 [00:35<03:23, 11.97s/it]"
     ]
    },
    {
     "name": "stdout",
     "output_type": "stream",
     "text": [
      "Epoch: 2, Loss: 0.015890534001179468\n"
     ]
    },
    {
     "name": "stderr",
     "output_type": "stream",
     "text": [
      " 20%|████████████                                                | 4/20 [00:48<03:18, 12.42s/it]"
     ]
    },
    {
     "name": "stdout",
     "output_type": "stream",
     "text": [
      "Epoch: 3, Loss: 0.01675181943953663\n"
     ]
    },
    {
     "name": "stderr",
     "output_type": "stream",
     "text": [
      " 25%|███████████████                                             | 5/20 [01:01<03:09, 12.63s/it]"
     ]
    },
    {
     "name": "stdout",
     "output_type": "stream",
     "text": [
      "Epoch: 4, Loss: 0.009471884815593344\n"
     ]
    },
    {
     "name": "stderr",
     "output_type": "stream",
     "text": [
      " 30%|██████████████████                                          | 6/20 [01:14<02:59, 12.79s/it]"
     ]
    },
    {
     "name": "stdout",
     "output_type": "stream",
     "text": [
      "Epoch: 5, Loss: 0.008719198697481499\n"
     ]
    },
    {
     "name": "stderr",
     "output_type": "stream",
     "text": [
      " 35%|█████████████████████                                       | 7/20 [01:28<02:48, 12.93s/it]"
     ]
    },
    {
     "name": "stdout",
     "output_type": "stream",
     "text": [
      "Epoch: 6, Loss: 0.008200297529502876\n"
     ]
    },
    {
     "name": "stderr",
     "output_type": "stream",
     "text": [
      " 40%|████████████████████████                                    | 8/20 [01:41<02:36, 13.02s/it]"
     ]
    },
    {
     "name": "stdout",
     "output_type": "stream",
     "text": [
      "Epoch: 7, Loss: 0.008110962768513315\n"
     ]
    },
    {
     "name": "stderr",
     "output_type": "stream",
     "text": [
      " 45%|███████████████████████████                                 | 9/20 [01:54<02:23, 13.09s/it]"
     ]
    },
    {
     "name": "stdout",
     "output_type": "stream",
     "text": [
      "Epoch: 8, Loss: 0.008104806269808876\n"
     ]
    },
    {
     "name": "stderr",
     "output_type": "stream",
     "text": [
      " 50%|█████████████████████████████▌                             | 10/20 [02:07<02:11, 13.14s/it]"
     ]
    },
    {
     "name": "stdout",
     "output_type": "stream",
     "text": [
      "Epoch: 9, Loss: 0.00809982290668753\n"
     ]
    },
    {
     "name": "stderr",
     "output_type": "stream",
     "text": [
      " 55%|████████████████████████████████▍                          | 11/20 [02:21<01:58, 13.20s/it]"
     ]
    },
    {
     "name": "stdout",
     "output_type": "stream",
     "text": [
      "Epoch: 10, Loss: 0.008094095953763931\n"
     ]
    },
    {
     "name": "stderr",
     "output_type": "stream",
     "text": [
      " 60%|███████████████████████████████████▍                       | 12/20 [02:34<01:45, 13.19s/it]"
     ]
    },
    {
     "name": "stdout",
     "output_type": "stream",
     "text": [
      "Epoch: 11, Loss: 0.008078650009445318\n"
     ]
    },
    {
     "name": "stderr",
     "output_type": "stream",
     "text": [
      " 65%|██████████████████████████████████████▎                    | 13/20 [02:47<01:32, 13.18s/it]"
     ]
    },
    {
     "name": "stdout",
     "output_type": "stream",
     "text": [
      "Epoch: 12, Loss: 0.008083204239492596\n"
     ]
    },
    {
     "name": "stderr",
     "output_type": "stream",
     "text": [
      " 70%|█████████████████████████████████████████▎                 | 14/20 [03:00<01:18, 13.17s/it]"
     ]
    },
    {
     "name": "stdout",
     "output_type": "stream",
     "text": [
      "Epoch: 13, Loss: 0.008089516333618409\n"
     ]
    },
    {
     "name": "stderr",
     "output_type": "stream",
     "text": [
      " 75%|████████████████████████████████████████████▎              | 15/20 [03:13<01:05, 13.13s/it]"
     ]
    },
    {
     "name": "stdout",
     "output_type": "stream",
     "text": [
      "Epoch: 14, Loss: 0.008088678952196594\n"
     ]
    },
    {
     "name": "stderr",
     "output_type": "stream",
     "text": [
      " 80%|███████████████████████████████████████████████▏           | 16/20 [03:26<00:52, 13.11s/it]"
     ]
    },
    {
     "name": "stdout",
     "output_type": "stream",
     "text": [
      "Epoch: 15, Loss: 0.008070174838889934\n"
     ]
    },
    {
     "name": "stderr",
     "output_type": "stream",
     "text": [
      " 85%|██████████████████████████████████████████████████▏        | 17/20 [03:39<00:39, 13.09s/it]"
     ]
    },
    {
     "name": "stdout",
     "output_type": "stream",
     "text": [
      "Epoch: 16, Loss: 0.008064128991181025\n"
     ]
    },
    {
     "name": "stderr",
     "output_type": "stream",
     "text": [
      " 90%|█████████████████████████████████████████████████████      | 18/20 [03:52<00:26, 13.08s/it]"
     ]
    },
    {
     "name": "stdout",
     "output_type": "stream",
     "text": [
      "Epoch: 17, Loss: 0.008053365880090965\n"
     ]
    },
    {
     "name": "stderr",
     "output_type": "stream",
     "text": [
      " 95%|████████████████████████████████████████████████████████   | 19/20 [04:05<00:13, 13.08s/it]"
     ]
    },
    {
     "name": "stdout",
     "output_type": "stream",
     "text": [
      "Epoch: 18, Loss: 0.008051462829296818\n"
     ]
    },
    {
     "name": "stderr",
     "output_type": "stream",
     "text": [
      "100%|███████████████████████████████████████████████████████████| 20/20 [04:18<00:00, 12.94s/it]"
     ]
    },
    {
     "name": "stdout",
     "output_type": "stream",
     "text": [
      "Epoch: 19, Loss: 0.008061980219518448\n"
     ]
    },
    {
     "name": "stderr",
     "output_type": "stream",
     "text": [
      "\n"
     ]
    }
   ],
   "source": [
    "EPOCHS = 20\n",
    "\n",
    "for epoch in tqdm(range(EPOCHS)):\n",
    "    running_loss = 0\n",
    "    for idx, data in enumerate(trainLoader):\n",
    "        img, label = data\n",
    "        img1, img2 = img[:,0], img[:,1]\n",
    "        img1, img2, label = img1.to(device), img2.to(device), label.to(device)\n",
    "        \n",
    "        optimizer.zero_grad()\n",
    "        \n",
    "        pred1, pred2 = model(img1, img2)\n",
    "        loss = criterion(pred1, pred2, label)\n",
    "        loss.backward()\n",
    "        \n",
    "        optimizer.step()\n",
    "        \n",
    "        running_loss += loss.item()\n",
    "    print(f\"Epoch: {epoch}, Loss: {running_loss/len(tr_pairs)}\")"
   ]
  },
  {
   "cell_type": "markdown",
   "id": "2bd1a23b-1f74-4f7d-b021-14341e6e9378",
   "metadata": {},
   "source": [
    "## Model Evaluation"
   ]
  },
  {
   "cell_type": "code",
   "execution_count": 23,
   "id": "4ced4f56-9288-4603-8f1f-55e6226905a6",
   "metadata": {},
   "outputs": [],
   "source": [
    "def compute_accuracy(y_true, y_pred):\n",
    "    '''Compute classification accuracy with a fixed threshold on distances.\n",
    "    '''\n",
    "    \n",
    "    pred = torch.ravel(y_pred) < 0.5\n",
    "    \n",
    "    return np.mean(pred == y_true)"
   ]
  },
  {
   "cell_type": "code",
   "execution_count": 24,
   "id": "8d8ba8e6-b730-4c46-9ba8-9b26953a2a25",
   "metadata": {},
   "outputs": [
    {
     "data": {
      "text/plain": [
       "SiameseNetwork(\n",
       "  (layer1): Linear(in_features=784, out_features=128, bias=True)\n",
       "  (layer2): Linear(in_features=128, out_features=128, bias=True)\n",
       "  (out): Linear(in_features=128, out_features=128, bias=True)\n",
       "  (dropout): Dropout(p=0.1, inplace=False)\n",
       "  (relu1): ReLU(inplace=True)\n",
       "  (relu2): ReLU(inplace=True)\n",
       "  (relu3): ReLU(inplace=True)\n",
       ")"
      ]
     },
     "execution_count": 24,
     "metadata": {},
     "output_type": "execute_result"
    }
   ],
   "source": [
    "model.eval()"
   ]
  },
  {
   "cell_type": "code",
   "execution_count": 26,
   "id": "a028c91b-d0ef-40fa-b26a-ccf3946b63f6",
   "metadata": {},
   "outputs": [
    {
     "name": "stdout",
     "output_type": "stream",
     "text": [
      "Loss: 0.0026052027039079593\n"
     ]
    }
   ],
   "source": [
    "running_loss = 0\n",
    "for idx, data in enumerate(valLoader):\n",
    "    img, label = data\n",
    "    img1, img2 = img[:,0], img[:,1]\n",
    "    img1, img2, label = img1.to(device), img2.to(device), label.to(device)\n",
    "\n",
    "    pred1, pred2 = model(img1, img2)\n",
    "    loss = criterion(pred1, pred2, label)\n",
    "\n",
    "    running_loss += loss.item()\n",
    "print(f\"Loss: {running_loss/len(tr_pairs)}\")"
   ]
  },
  {
   "cell_type": "code",
   "execution_count": null,
   "id": "f43ef98d-bbcb-42a0-8dcc-65102b29f5c3",
   "metadata": {},
   "outputs": [],
   "source": []
  }
 ],
 "metadata": {
  "kernelspec": {
   "display_name": "Python 3 (ipykernel)",
   "language": "python",
   "name": "python3"
  },
  "language_info": {
   "codemirror_mode": {
    "name": "ipython",
    "version": 3
   },
   "file_extension": ".py",
   "mimetype": "text/x-python",
   "name": "python",
   "nbconvert_exporter": "python",
   "pygments_lexer": "ipython3",
   "version": "3.9.7"
  }
 },
 "nbformat": 4,
 "nbformat_minor": 5
}
